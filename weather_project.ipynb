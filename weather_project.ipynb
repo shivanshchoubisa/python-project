{
 "cells": [
  {
   "cell_type": "code",
   "execution_count": null,
   "metadata": {},
   "outputs": [],
   "source": [
    "import requests\n",
    "\n",
    "city_name=input(\"Enter city\")\n",
    "api_key=\"91030335dbc2ec4bd756a3e5fd685d50\"\n",
    "weather=requests.get(f\"https://api.openweathermap.org/data/2.5/weather?q={city_name}&appid={api_key}\")\n",
    "\n",
    "print(weather)\n",
    "\n",
    "\n",
    "if weather.json()[\"cod\"]==\"404\":\n",
    "    print(\"Enter correct city name\")\n",
    "else:\n",
    "    w=weather.json()[\"weather\"][0][\"main\"]\n",
    "    print(f\"Waether of {city_name}is {w}\")\n",
    "    t=weather.json()[\"main\"][\"temp\"]\n",
    "    print(t)"
   ]
  }
 ],
 "metadata": {
  "kernelspec": {
   "display_name": "Python 3",
   "language": "python",
   "name": "python3"
  },
  "language_info": {
   "name": "python",
   "version": "3.11.4"
  },
  "orig_nbformat": 4
 },
 "nbformat": 4,
 "nbformat_minor": 2
}
