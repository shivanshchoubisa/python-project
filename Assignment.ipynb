{
 "cells": [
  {
   "cell_type": "markdown",
   "metadata": {},
   "source": [
    "Q:1 Create a function to add \"n\" numbers"
   ]
  },
  {
   "cell_type": "code",
   "execution_count": 3,
   "metadata": {},
   "outputs": [
    {
     "name": "stdout",
     "output_type": "stream",
     "text": [
      "15\n"
     ]
    }
   ],
   "source": [
    "number = int(input(\"Enter the Number: \"))\n",
    "sum = 0\n",
    "for value in range(1, number + 1):\n",
    "    sum = sum + value\n",
    "print(sum)"
   ]
  },
  {
   "cell_type": "markdown",
   "metadata": {},
   "source": [
    "Q:2 Create a a list of numbers then get squares of all the numbers in the list and put it in a new list and print it\n"
   ]
  },
  {
   "cell_type": "code",
   "execution_count": null,
   "metadata": {},
   "outputs": [],
   "source": [
    "my_list = [1, 2, 3, 4, 5]\n",
    "squared_list = []\n",
    "\n",
    "for number in my_list:\n",
    "    squared_list.append(number**2)\n",
    "\n",
    "print(squared_list)"
   ]
  },
  {
   "cell_type": "markdown",
   "metadata": {},
   "source": [
    "Q:3 Create a code to reverse the words of a string. Example: My name is Ronak -> Ronak is name My"
   ]
  },
  {
   "cell_type": "code",
   "execution_count": 1,
   "metadata": {},
   "outputs": [
    {
     "name": "stdout",
     "output_type": "stream",
     "text": [
      "Ronak is name My\n"
     ]
    }
   ],
   "source": [
    "# input string\n",
    "string = \"My name is Ronak\"\n",
    "# reversing words in a given string\n",
    "s = string.split()[::-1]\n",
    "l = []\n",
    "for i in s:\n",
    "    # appending reversed words to l\n",
    "    l.append(i)\n",
    "# printing reverse words\n",
    "print(\" \".join(l))"
   ]
  },
  {
   "cell_type": "markdown",
   "metadata": {},
   "source": [
    "Q:4 Create an ATM system using class where you can withdraw, deposit, check balance."
   ]
  },
  {
   "cell_type": "code",
   "execution_count": 1,
   "metadata": {},
   "outputs": [
    {
     "name": "stdout",
     "output_type": "stream",
     "text": [
      "*******WELCOME TO BANK OF Arya*******\n",
      "___________________________________________________________\n",
      "\n",
      "----------ACCOUNT CREATION----------\n",
      "Congratulations! Account created successfully......\n",
      "\n",
      "Wrong command!  Enter 'y' for yes and 'n' for NO.\n",
      "\n",
      "\n",
      "            TRANSACTION \n",
      "        *********************\n",
      "            Menu:\n",
      "            1. Account Detail\n",
      "            2. Check Balance\n",
      "            3. Deposit\n",
      "            4. Withdraw\n",
      "            5. Exit\n",
      "        *********************\n",
      "        \n",
      "Error: Enter 1, 2, 3, 4, or 5 only!\n",
      "\n",
      "Current account balance:  3\n",
      "\n",
      "Insufficient fund!\n",
      "Your balance is 3 only.\n",
      "Try with lesser amount than balance.\n",
      "\n",
      "Current account balance:  5\n",
      "\n",
      "Available balance:  5\n",
      "\n",
      "Error: Enter 1, 2, 3, 4, or 5 only!\n",
      "\n",
      "Error: Enter 1, 2, 3, 4, or 5 only!\n",
      "\n",
      "\n",
      "                printing receipt..............\n",
      "          ******************************************\n",
      "              Transaction is now complete.                         \n",
      "              Transaction number: 32657 \n",
      "              Account holder:                   \n",
      "              Account number: shivansh choubisa                \n",
      "              Available balance: Nu.5                    \n",
      " \n",
      "              Thanks for choosing us as your bank                  \n",
      "          ******************************************\n",
      "          \n"
     ]
    },
    {
     "ename": "SystemExit",
     "evalue": "",
     "output_type": "error",
     "traceback": [
      "An exception has occurred, use %tb to see the full traceback.\n",
      "\u001b[1;31mSystemExit\u001b[0m\n"
     ]
    },
    {
     "name": "stderr",
     "output_type": "stream",
     "text": [
      "C:\\Users\\Shivansh\\AppData\\Roaming\\Python\\Python311\\site-packages\\IPython\\core\\interactiveshell.py:3534: UserWarning: To exit: use 'exit', 'quit', or Ctrl-D.\n",
      "  warn(\"To exit: use 'exit', 'quit', or Ctrl-D.\", stacklevel=1)\n"
     ]
    }
   ],
   "source": [
    "import random\n",
    "import sys\n",
    " \n",
    "class ATM():\n",
    "    def __init__(self, name, account_number, balance = 0):\n",
    "        self.name = name\n",
    "        self.account_number = account_number\n",
    "        self.balance = balance\n",
    "         \n",
    "    def account_detail(self):\n",
    "        print(\"\\n----------ACCOUNT DETAIL----------\")\n",
    "        print(f\"Account Holder: {self.name.upper()}\")\n",
    "        print(f\"Account Number: {self.account_number}\")\n",
    "        print(f\"Available balance: {self.balance}\\n\")\n",
    "         \n",
    "    def deposit(self, amount):\n",
    "        self.amount = amount\n",
    "        self.balance = self.balance + self.amount\n",
    "        print(\"Current account balance: \", self.balance)\n",
    "        print()\n",
    " \n",
    "    def withdraw(self, amount):\n",
    "        self.amount = amount\n",
    "        if self.amount > self.balance:\n",
    "            print(\"Insufficient fund!\")\n",
    "            print(f\"Your balance is {self.balance} only.\")\n",
    "            print(\"Try with lesser amount than balance.\")\n",
    "            print()\n",
    "        else:\n",
    "            self.balance = self.balance - self.amount\n",
    "            print(f\"Nu.{amount} withdrawal successful!\")\n",
    "            print(\"Current account balance: \", self.balance)\n",
    "            print()\n",
    " \n",
    "    def check_balance(self):\n",
    "        print(\"Available balance: \", self.balance)\n",
    "        print()\n",
    " \n",
    "    def transaction(self):\n",
    "        print(\"\"\"\n",
    "            TRANSACTION \n",
    "        *********************\n",
    "            Menu:\n",
    "            1. Account Detail\n",
    "            2. Check Balance\n",
    "            3. Deposit\n",
    "            4. Withdraw\n",
    "            5. Exit\n",
    "        *********************\n",
    "        \"\"\")\n",
    "        \n",
    "        while True:\n",
    "            try:\n",
    "                option = int(input(\"Enter 1, 2, 3, 4 or 5:\"))\n",
    "            except:\n",
    "                print(\"Error: Enter 1, 2, 3, 4, or 5 only!\\n\")\n",
    "                continue\n",
    "            else:\n",
    "                if option == 1:\n",
    "                    atm.account_detail()\n",
    "                elif option == 2:\n",
    "                    atm.check_balance()\n",
    "                elif option == 3:\n",
    "                    amount = int(input(\"How much you want to deposit:\"))\n",
    "                    atm.deposit(amount)\n",
    "                elif option == 4:\n",
    "                    amount = int(input(\"How much you want to withdraw:\"))\n",
    "                    atm.withdraw(amount)\n",
    "                elif option == 5:\n",
    "                    print(f\"\"\"\n",
    "                printing receipt..............\n",
    "          ******************************************\n",
    "              Transaction is now complete.                         \n",
    "              Transaction number: {random.randint(10000, 1000000)} \n",
    "              Account holder: {self.name.upper()}                  \n",
    "              Account number: {self.account_number}                \n",
    "              Available balance: Nu.{self.balance}                    \n",
    " \n",
    "              Thanks for choosing us as your bank                  \n",
    "          ******************************************\n",
    "          \"\"\")\n",
    "                    sys.exit()\n",
    "                 \n",
    " \n",
    "print(\"*******WELCOME TO BANK OF Arya*******\")\n",
    "print(\"___________________________________________________________\\n\")\n",
    "print(\"----------ACCOUNT CREATION----------\")\n",
    "name = input(\"Enter your name: \")\n",
    "account_number = input(\"Enter your account number: \")\n",
    "print(\"Congratulations! Account created successfully......\\n\")\n",
    " \n",
    "atm = ATM(name, account_number)\n",
    " \n",
    "while True:\n",
    "    trans = input(\"Do you want to do any transaction?(y/n):\")\n",
    "    if trans == \"y\":\n",
    "        atm.transaction()\n",
    "    elif trans == \"n\":\n",
    "        print(\"\"\"\n",
    "    -------------------------------------\n",
    "   | Thanks for choosing us as your bank |\n",
    "   | Visit us again!                     |\n",
    "    -------------------------------------\n",
    "        \"\"\")\n",
    "        break\n",
    "    else:\n",
    "        print(\"Wrong command!  Enter 'y' for yes and 'n' for NO.\\n\")"
   ]
  },
  {
   "cell_type": "code",
   "execution_count": 5,
   "metadata": {},
   "outputs": [
    {
     "name": "stdout",
     "output_type": "stream",
     "text": [
      "Generated OTP: 477756\n",
      "Invalid OTP!\n"
     ]
    }
   ],
   "source": [
    "import random  # Import random module\n",
    "\n",
    "def generate_otp(length): # Define the function with the parameter ‘length’\n",
    "    otp = \"\"\n",
    "    for _ in range(length): # Use for loop\n",
    "        otp += str(random.randint(0, 9)) # \n",
    "    return otp\n",
    "\n",
    "def validate_otp(user_input, otp):\n",
    "    return user_input == otp\n",
    "\n",
    "length = 6  # Length of the OTP\n",
    "\n",
    "# Generate OTP\n",
    "otp = generate_otp(length)\n",
    "print(\"Generated OTP:\", otp)\n",
    "\n",
    "# Prompt user to enter OTP\n",
    "user_input = 30847\n",
    "\n",
    "# Validate OTP\n",
    "if validate_otp(user_input, otp):\n",
    "    print(\"OTP is valid!\")\n",
    "else:\n",
    "   print(\"Invalid OTP!\")"
   ]
  }
 ],
 "metadata": {
  "kernelspec": {
   "display_name": "Python 3",
   "language": "python",
   "name": "python3"
  },
  "language_info": {
   "codemirror_mode": {
    "name": "ipython",
    "version": 3
   },
   "file_extension": ".py",
   "mimetype": "text/x-python",
   "name": "python",
   "nbconvert_exporter": "python",
   "pygments_lexer": "ipython3",
   "version": "3.11.4"
  },
  "orig_nbformat": 4
 },
 "nbformat": 4,
 "nbformat_minor": 2
}
